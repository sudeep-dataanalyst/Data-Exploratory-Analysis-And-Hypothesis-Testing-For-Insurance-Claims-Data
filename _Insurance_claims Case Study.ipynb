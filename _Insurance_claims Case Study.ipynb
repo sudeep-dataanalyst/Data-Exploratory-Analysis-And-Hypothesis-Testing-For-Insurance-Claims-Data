{
 "cells": [
  {
   "cell_type": "code",
   "execution_count": 105,
   "id": "b570f8cd-ec7e-4899-905f-63fd4f5c320c",
   "metadata": {},
   "outputs": [],
   "source": [
    "import numpy as np\n",
    "import pandas as pd\n",
    "import matplotlib.pyplot as plt\n",
    "import seaborn as sns\n",
    "from datetime import datetime\n",
    "from scipy.stats import f_oneway"
   ]
  },
  {
   "cell_type": "code",
   "execution_count": 106,
   "id": "2c5de4d4-60fb-480f-9ca6-cdfc2b1e433c",
   "metadata": {},
   "outputs": [],
   "source": [
    "claims = pd.read_csv('claims.csv')\n",
    "cust_demographics = pd.read_csv('cust_demographics.csv')"
   ]
  },
  {
   "cell_type": "code",
   "execution_count": 107,
   "id": "6f13ccd8-ae74-4b4c-9217-0bffddab073e",
   "metadata": {},
   "outputs": [
    {
     "data": {
      "text/html": [
       "<div>\n",
       "<style scoped>\n",
       "    .dataframe tbody tr th:only-of-type {\n",
       "        vertical-align: middle;\n",
       "    }\n",
       "\n",
       "    .dataframe tbody tr th {\n",
       "        vertical-align: top;\n",
       "    }\n",
       "\n",
       "    .dataframe thead th {\n",
       "        text-align: right;\n",
       "    }\n",
       "</style>\n",
       "<table border=\"1\" class=\"dataframe\">\n",
       "  <thead>\n",
       "    <tr style=\"text-align: right;\">\n",
       "      <th></th>\n",
       "      <th>claim_id</th>\n",
       "      <th>customer_id</th>\n",
       "      <th>incident_cause</th>\n",
       "      <th>claim_date</th>\n",
       "      <th>claim_area</th>\n",
       "      <th>police_report</th>\n",
       "      <th>claim_type</th>\n",
       "      <th>claim_amount</th>\n",
       "      <th>total_policy_claims</th>\n",
       "      <th>fraudulent</th>\n",
       "    </tr>\n",
       "  </thead>\n",
       "  <tbody>\n",
       "    <tr>\n",
       "      <th>0</th>\n",
       "      <td>54004764</td>\n",
       "      <td>21868593</td>\n",
       "      <td>Driver error</td>\n",
       "      <td>11/27/2017</td>\n",
       "      <td>Auto</td>\n",
       "      <td>No</td>\n",
       "      <td>Material only</td>\n",
       "      <td>$2980</td>\n",
       "      <td>1.0</td>\n",
       "      <td>No</td>\n",
       "    </tr>\n",
       "    <tr>\n",
       "      <th>1</th>\n",
       "      <td>33985796</td>\n",
       "      <td>75740424</td>\n",
       "      <td>Crime</td>\n",
       "      <td>10/03/2018</td>\n",
       "      <td>Home</td>\n",
       "      <td>Unknown</td>\n",
       "      <td>Material only</td>\n",
       "      <td>$2980</td>\n",
       "      <td>3.0</td>\n",
       "      <td>No</td>\n",
       "    </tr>\n",
       "    <tr>\n",
       "      <th>2</th>\n",
       "      <td>53522022</td>\n",
       "      <td>30308357</td>\n",
       "      <td>Other driver error</td>\n",
       "      <td>02/02/2018</td>\n",
       "      <td>Auto</td>\n",
       "      <td>No</td>\n",
       "      <td>Material only</td>\n",
       "      <td>$3369.5</td>\n",
       "      <td>1.0</td>\n",
       "      <td>Yes</td>\n",
       "    </tr>\n",
       "    <tr>\n",
       "      <th>3</th>\n",
       "      <td>13015401</td>\n",
       "      <td>47830476</td>\n",
       "      <td>Natural causes</td>\n",
       "      <td>06/17/2018</td>\n",
       "      <td>Auto</td>\n",
       "      <td>No</td>\n",
       "      <td>Material only</td>\n",
       "      <td>$1680</td>\n",
       "      <td>1.0</td>\n",
       "      <td>No</td>\n",
       "    </tr>\n",
       "    <tr>\n",
       "      <th>4</th>\n",
       "      <td>22890252</td>\n",
       "      <td>19269962</td>\n",
       "      <td>Crime</td>\n",
       "      <td>01/13/2018</td>\n",
       "      <td>Auto</td>\n",
       "      <td>No</td>\n",
       "      <td>Material only</td>\n",
       "      <td>$2680</td>\n",
       "      <td>1.0</td>\n",
       "      <td>No</td>\n",
       "    </tr>\n",
       "    <tr>\n",
       "      <th>...</th>\n",
       "      <td>...</td>\n",
       "      <td>...</td>\n",
       "      <td>...</td>\n",
       "      <td>...</td>\n",
       "      <td>...</td>\n",
       "      <td>...</td>\n",
       "      <td>...</td>\n",
       "      <td>...</td>\n",
       "      <td>...</td>\n",
       "      <td>...</td>\n",
       "    </tr>\n",
       "    <tr>\n",
       "      <th>1095</th>\n",
       "      <td>97727122</td>\n",
       "      <td>35951012</td>\n",
       "      <td>Other driver error</td>\n",
       "      <td>06/11/2017</td>\n",
       "      <td>Auto</td>\n",
       "      <td>No</td>\n",
       "      <td>Material only</td>\n",
       "      <td>$3059</td>\n",
       "      <td>4.0</td>\n",
       "      <td>Yes</td>\n",
       "    </tr>\n",
       "    <tr>\n",
       "      <th>1096</th>\n",
       "      <td>10247193</td>\n",
       "      <td>14818669</td>\n",
       "      <td>Natural causes</td>\n",
       "      <td>03/14/2018</td>\n",
       "      <td>Auto</td>\n",
       "      <td>No</td>\n",
       "      <td>Material only</td>\n",
       "      <td>$1520</td>\n",
       "      <td>2.0</td>\n",
       "      <td>No</td>\n",
       "    </tr>\n",
       "    <tr>\n",
       "      <th>1097</th>\n",
       "      <td>79807493</td>\n",
       "      <td>85322831</td>\n",
       "      <td>Other driver error</td>\n",
       "      <td>02/09/2018</td>\n",
       "      <td>Auto</td>\n",
       "      <td>No</td>\n",
       "      <td>Material and injury</td>\n",
       "      <td>$23575</td>\n",
       "      <td>2.0</td>\n",
       "      <td>Yes</td>\n",
       "    </tr>\n",
       "    <tr>\n",
       "      <th>1098</th>\n",
       "      <td>69299345</td>\n",
       "      <td>73449366</td>\n",
       "      <td>Other causes</td>\n",
       "      <td>03/21/2018</td>\n",
       "      <td>Auto</td>\n",
       "      <td>Unknown</td>\n",
       "      <td>Material and injury</td>\n",
       "      <td>$25120</td>\n",
       "      <td>1.0</td>\n",
       "      <td>No</td>\n",
       "    </tr>\n",
       "    <tr>\n",
       "      <th>1099</th>\n",
       "      <td>58809728</td>\n",
       "      <td>43020876</td>\n",
       "      <td>Other driver error</td>\n",
       "      <td>06/04/2017</td>\n",
       "      <td>Auto</td>\n",
       "      <td>Yes</td>\n",
       "      <td>Material and injury</td>\n",
       "      <td>$36685</td>\n",
       "      <td>3.0</td>\n",
       "      <td>Yes</td>\n",
       "    </tr>\n",
       "  </tbody>\n",
       "</table>\n",
       "<p>1100 rows × 10 columns</p>\n",
       "</div>"
      ],
      "text/plain": [
       "      claim_id  customer_id      incident_cause  claim_date claim_area  \\\n",
       "0     54004764     21868593        Driver error  11/27/2017       Auto   \n",
       "1     33985796     75740424               Crime  10/03/2018       Home   \n",
       "2     53522022     30308357  Other driver error  02/02/2018       Auto   \n",
       "3     13015401     47830476      Natural causes  06/17/2018       Auto   \n",
       "4     22890252     19269962               Crime  01/13/2018       Auto   \n",
       "...        ...          ...                 ...         ...        ...   \n",
       "1095  97727122     35951012  Other driver error  06/11/2017       Auto   \n",
       "1096  10247193     14818669      Natural causes  03/14/2018       Auto   \n",
       "1097  79807493     85322831  Other driver error  02/09/2018       Auto   \n",
       "1098  69299345     73449366        Other causes  03/21/2018       Auto   \n",
       "1099  58809728     43020876  Other driver error  06/04/2017       Auto   \n",
       "\n",
       "     police_report           claim_type claim_amount  total_policy_claims  \\\n",
       "0               No        Material only        $2980                  1.0   \n",
       "1          Unknown        Material only        $2980                  3.0   \n",
       "2               No        Material only      $3369.5                  1.0   \n",
       "3               No        Material only        $1680                  1.0   \n",
       "4               No        Material only        $2680                  1.0   \n",
       "...            ...                  ...          ...                  ...   \n",
       "1095            No        Material only        $3059                  4.0   \n",
       "1096            No        Material only        $1520                  2.0   \n",
       "1097            No  Material and injury       $23575                  2.0   \n",
       "1098       Unknown  Material and injury       $25120                  1.0   \n",
       "1099           Yes  Material and injury       $36685                  3.0   \n",
       "\n",
       "     fraudulent  \n",
       "0            No  \n",
       "1            No  \n",
       "2           Yes  \n",
       "3            No  \n",
       "4            No  \n",
       "...         ...  \n",
       "1095        Yes  \n",
       "1096         No  \n",
       "1097        Yes  \n",
       "1098         No  \n",
       "1099        Yes  \n",
       "\n",
       "[1100 rows x 10 columns]"
      ]
     },
     "execution_count": 107,
     "metadata": {},
     "output_type": "execute_result"
    }
   ],
   "source": [
    "claims"
   ]
  },
  {
   "cell_type": "code",
   "execution_count": 108,
   "id": "91df6568-0497-4484-affc-f141b3fee0c7",
   "metadata": {},
   "outputs": [
    {
     "data": {
      "text/html": [
       "<div>\n",
       "<style scoped>\n",
       "    .dataframe tbody tr th:only-of-type {\n",
       "        vertical-align: middle;\n",
       "    }\n",
       "\n",
       "    .dataframe tbody tr th {\n",
       "        vertical-align: top;\n",
       "    }\n",
       "\n",
       "    .dataframe thead th {\n",
       "        text-align: right;\n",
       "    }\n",
       "</style>\n",
       "<table border=\"1\" class=\"dataframe\">\n",
       "  <thead>\n",
       "    <tr style=\"text-align: right;\">\n",
       "      <th></th>\n",
       "      <th>CUST_ID</th>\n",
       "      <th>gender</th>\n",
       "      <th>DateOfBirth</th>\n",
       "      <th>State</th>\n",
       "      <th>Contact</th>\n",
       "      <th>Segment</th>\n",
       "    </tr>\n",
       "  </thead>\n",
       "  <tbody>\n",
       "    <tr>\n",
       "      <th>0</th>\n",
       "      <td>21868593</td>\n",
       "      <td>Female</td>\n",
       "      <td>12-Jan-79</td>\n",
       "      <td>VT</td>\n",
       "      <td>789-916-8172</td>\n",
       "      <td>Platinum</td>\n",
       "    </tr>\n",
       "    <tr>\n",
       "      <th>1</th>\n",
       "      <td>75740424</td>\n",
       "      <td>Female</td>\n",
       "      <td>13-Jan-70</td>\n",
       "      <td>ME</td>\n",
       "      <td>265-543-1264</td>\n",
       "      <td>Silver</td>\n",
       "    </tr>\n",
       "    <tr>\n",
       "      <th>2</th>\n",
       "      <td>30308357</td>\n",
       "      <td>Female</td>\n",
       "      <td>11-Mar-84</td>\n",
       "      <td>TN</td>\n",
       "      <td>798-631-4758</td>\n",
       "      <td>Silver</td>\n",
       "    </tr>\n",
       "    <tr>\n",
       "      <th>3</th>\n",
       "      <td>47830476</td>\n",
       "      <td>Female</td>\n",
       "      <td>01-May-86</td>\n",
       "      <td>MA</td>\n",
       "      <td>413-187-7945</td>\n",
       "      <td>Silver</td>\n",
       "    </tr>\n",
       "    <tr>\n",
       "      <th>4</th>\n",
       "      <td>19269962</td>\n",
       "      <td>Male</td>\n",
       "      <td>13-May-77</td>\n",
       "      <td>NV</td>\n",
       "      <td>956-871-8691</td>\n",
       "      <td>Gold</td>\n",
       "    </tr>\n",
       "    <tr>\n",
       "      <th>...</th>\n",
       "      <td>...</td>\n",
       "      <td>...</td>\n",
       "      <td>...</td>\n",
       "      <td>...</td>\n",
       "      <td>...</td>\n",
       "      <td>...</td>\n",
       "    </tr>\n",
       "    <tr>\n",
       "      <th>1080</th>\n",
       "      <td>79539873</td>\n",
       "      <td>Female</td>\n",
       "      <td>15-Mar-81</td>\n",
       "      <td>ND</td>\n",
       "      <td>459-425-4319</td>\n",
       "      <td>Platinum</td>\n",
       "    </tr>\n",
       "    <tr>\n",
       "      <th>1081</th>\n",
       "      <td>42364152</td>\n",
       "      <td>Female</td>\n",
       "      <td>07-Jul-96</td>\n",
       "      <td>ID</td>\n",
       "      <td>529-462-1635</td>\n",
       "      <td>Silver</td>\n",
       "    </tr>\n",
       "    <tr>\n",
       "      <th>1082</th>\n",
       "      <td>19888166</td>\n",
       "      <td>Male</td>\n",
       "      <td>11-Apr-90</td>\n",
       "      <td>WI</td>\n",
       "      <td>712-651-9613</td>\n",
       "      <td>Gold</td>\n",
       "    </tr>\n",
       "    <tr>\n",
       "      <th>1083</th>\n",
       "      <td>11256802</td>\n",
       "      <td>Female</td>\n",
       "      <td>22-Oct-64</td>\n",
       "      <td>LA</td>\n",
       "      <td>469-345-5617</td>\n",
       "      <td>Silver</td>\n",
       "    </tr>\n",
       "    <tr>\n",
       "      <th>1084</th>\n",
       "      <td>61575264</td>\n",
       "      <td>Male</td>\n",
       "      <td>12-Jul-95</td>\n",
       "      <td>WY</td>\n",
       "      <td>182-385-1392</td>\n",
       "      <td>Gold</td>\n",
       "    </tr>\n",
       "  </tbody>\n",
       "</table>\n",
       "<p>1085 rows × 6 columns</p>\n",
       "</div>"
      ],
      "text/plain": [
       "       CUST_ID  gender DateOfBirth State       Contact   Segment\n",
       "0     21868593  Female   12-Jan-79    VT  789-916-8172  Platinum\n",
       "1     75740424  Female   13-Jan-70    ME  265-543-1264    Silver\n",
       "2     30308357  Female   11-Mar-84    TN  798-631-4758    Silver\n",
       "3     47830476  Female   01-May-86    MA  413-187-7945    Silver\n",
       "4     19269962    Male   13-May-77    NV  956-871-8691      Gold\n",
       "...        ...     ...         ...   ...           ...       ...\n",
       "1080  79539873  Female   15-Mar-81    ND  459-425-4319  Platinum\n",
       "1081  42364152  Female   07-Jul-96    ID  529-462-1635    Silver\n",
       "1082  19888166    Male   11-Apr-90    WI  712-651-9613      Gold\n",
       "1083  11256802  Female   22-Oct-64    LA  469-345-5617    Silver\n",
       "1084  61575264    Male   12-Jul-95    WY  182-385-1392      Gold\n",
       "\n",
       "[1085 rows x 6 columns]"
      ]
     },
     "execution_count": 108,
     "metadata": {},
     "output_type": "execute_result"
    }
   ],
   "source": [
    "cust_demographics"
   ]
  },
  {
   "cell_type": "markdown",
   "id": "1ca3d359-7f28-4701-9c74-2b18a59151c6",
   "metadata": {},
   "source": [
    "#### 1. importing files"
   ]
  },
  {
   "cell_type": "code",
   "execution_count": 109,
   "id": "3377f3a1-78b6-4860-8671-fe57fa566c15",
   "metadata": {},
   "outputs": [
    {
     "name": "stdout",
     "output_type": "stream",
     "text": [
      "\n",
      "Combined Data:\n",
      "   claim_id  customer_id      incident_cause  claim_date claim_area  \\\n",
      "0  54004764     21868593        Driver error  11/27/2017       Auto   \n",
      "1  33985796     75740424               Crime  10/03/2018       Home   \n",
      "2  53522022     30308357  Other driver error  02/02/2018       Auto   \n",
      "3  13015401     47830476      Natural causes  06/17/2018       Auto   \n",
      "4  22890252     19269962               Crime  01/13/2018       Auto   \n",
      "\n",
      "  police_report     claim_type claim_amount  total_policy_claims fraudulent  \\\n",
      "0            No  Material only        $2980                  1.0         No   \n",
      "1       Unknown  Material only        $2980                  3.0         No   \n",
      "2            No  Material only      $3369.5                  1.0        Yes   \n",
      "3            No  Material only        $1680                  1.0         No   \n",
      "4            No  Material only        $2680                  1.0         No   \n",
      "\n",
      "   gender DateOfBirth State       Contact   Segment  \n",
      "0  Female   12-Jan-79    VT  789-916-8172  Platinum  \n",
      "1  Female   13-Jan-70    ME  265-543-1264    Silver  \n",
      "2  Female   11-Mar-84    TN  798-631-4758    Silver  \n",
      "3  Female   01-May-86    MA  413-187-7945    Silver  \n",
      "4    Male   13-May-77    NV  956-871-8691      Gold  \n"
     ]
    }
   ],
   "source": [
    "cust_demographics.rename(columns={'CUST_ID': 'customer_id'}, inplace=True)\n",
    "\n",
    "# Merge the two DataFrames on 'customer_id'\n",
    "combined_data = pd.merge(claims, cust_demographics, on='customer_id', how='left')\n",
    "\n",
    "# Display the first few rows of the combined DataFrame to verify the merge\n",
    "print(\"\\nCombined Data:\")\n",
    "print(combined_data.head())\n",
    "\n",
    "# Optionally save the combined data for further analysis\n",
    "combined_data.to_csv('combined_data.csv', index=False)\n"
   ]
  },
  {
   "cell_type": "markdown",
   "id": "d1e1d4f8-3f47-4749-9a1e-3688c2778785",
   "metadata": {},
   "source": [
    "#### 2.  Data audit for the datatypes "
   ]
  },
  {
   "cell_type": "code",
   "execution_count": 110,
   "id": "9238095f-8d0b-411d-b2ae-1e13788105b0",
   "metadata": {},
   "outputs": [
    {
     "name": "stdout",
     "output_type": "stream",
     "text": [
      "claim_id                 int64\n",
      "customer_id              int64\n",
      "incident_cause          object\n",
      "claim_date              object\n",
      "claim_area              object\n",
      "police_report           object\n",
      "claim_type              object\n",
      "claim_amount            object\n",
      "total_policy_claims    float64\n",
      "fraudulent              object\n",
      "gender                  object\n",
      "DateOfBirth             object\n",
      "State                   object\n",
      "Contact                 object\n",
      "Segment                 object\n",
      "dtype: object\n",
      "\n",
      "changed datatypes:\n",
      " claim_id                        int32\n",
      "customer_id                     int32\n",
      "incident_cause                 object\n",
      "claim_date             datetime64[ns]\n",
      "claim_area                     object\n",
      "police_report                  object\n",
      "claim_type                     object\n",
      "claim_amount                  float64\n",
      "total_policy_claims           float64\n",
      "fraudulent                     object\n",
      "gender                         object\n",
      "DateOfBirth            datetime64[ns]\n",
      "State                          object\n",
      "Contact                        object\n",
      "Segment                        object\n",
      "dtype: object\n"
     ]
    }
   ],
   "source": [
    "# Check the current datatypes of the columns\n",
    "print(combined_data.dtypes)\n",
    "\n",
    "# Convert datatypes where necessary\n",
    "combined_data['claim_id'] = combined_data['claim_id'].astype(int)\n",
    "combined_data['customer_id'] = combined_data['customer_id'].astype(int)\n",
    "combined_data['claim_date'] = pd.to_datetime(combined_data['claim_date'], format='%m/%d/%Y')\n",
    "combined_data['claim_amount'] = combined_data['claim_amount'].replace('[\\$,]', '', regex=True).astype(float)\n",
    "combined_data['total_policy_claims'] = combined_data['total_policy_claims'].astype(float)\n",
    "combined_data['DateOfBirth'] = pd.to_datetime(combined_data['DateOfBirth'], format='%d-%b-%y')\n",
    "\n",
    "# Verify the changes\n",
    "print(\"\\nchanged datatypes:\\n\",combined_data.dtypes)\n"
   ]
  },
  {
   "cell_type": "markdown",
   "id": "33763c75-d768-4ce1-a25b-1236a8cc0f64",
   "metadata": {},
   "source": [
    "#### 3. Converting the column claim_amount to numeric"
   ]
  },
  {
   "cell_type": "code",
   "execution_count": 111,
   "id": "ac3857d7-4bfb-444a-ba65-e66fd1e7a505",
   "metadata": {},
   "outputs": [
    {
     "name": "stdout",
     "output_type": "stream",
     "text": [
      "\n",
      "After conversion:\n",
      "0    2980.0\n",
      "1    2980.0\n",
      "2    3369.5\n",
      "3    1680.0\n",
      "4    2680.0\n",
      "Name: claim_amount, dtype: float64\n",
      "\n",
      "Data type of claim_amount:\n",
      "float64\n"
     ]
    }
   ],
   "source": [
    "combined_data['claim_amount'] = combined_data['claim_amount'].replace('[\\$,]', '', regex=True).astype(float)\n",
    "\n",
    "# Display the first few rows to verify the conversion\n",
    "print(\"\\nAfter conversion:\")\n",
    "print(combined_data['claim_amount'].head())\n",
    "\n",
    "# Verify the datatype of the column\n",
    "print(\"\\nData type of claim_amount:\")\n",
    "print(combined_data['claim_amount'].dtype)\n"
   ]
  },
  {
   "cell_type": "markdown",
   "id": "44f56af2-049b-4e9f-bae3-af79359fe77e",
   "metadata": {},
   "source": [
    "#### 4. Creating Flags"
   ]
  },
  {
   "cell_type": "code",
   "execution_count": 112,
   "id": "d7efb85c-f53e-46da-87f5-bae39c84b0fc",
   "metadata": {},
   "outputs": [
    {
     "name": "stdout",
     "output_type": "stream",
     "text": [
      "      claim_type police_report  alert_flag\n",
      "0  Material only            No           0\n",
      "1  Material only       Unknown           0\n",
      "2  Material only            No           0\n",
      "3  Material only            No           0\n",
      "4  Material only            No           0\n"
     ]
    }
   ],
   "source": [
    "injury_claims = combined_data[combined_data['claim_type'] == 'Material and injury']\n",
    "\n",
    "unreported_with_police = injury_claims['police_report'] == 'No'\n",
    "\n",
    "combined_data['alert_flag'] = 0 \n",
    "combined_data.loc[injury_claims.index[unreported_with_police], 'alert_flag'] = 1\n",
    "\n",
    "print(combined_data[['claim_type', 'police_report', 'alert_flag']].head())"
   ]
  },
  {
   "cell_type": "markdown",
   "id": "780c70c4-5d7a-4363-900e-b5a1075c594a",
   "metadata": {},
   "source": [
    "#### 5. Duplicate removing"
   ]
  },
  {
   "cell_type": "code",
   "execution_count": 113,
   "id": "64921a06-5adf-4ff2-bd49-78e9f38fd3f4",
   "metadata": {},
   "outputs": [
    {
     "name": "stdout",
     "output_type": "stream",
     "text": [
      "Number of duplicated records after removal: 0\n",
      "     claim_id  customer_id      incident_cause claim_date claim_area  \\\n",
      "184  69348631       154557        Driver error 2018-04-10       Auto   \n",
      "836  40953049       263204        Other causes 2018-04-04       Auto   \n",
      "677  45780237       287476      Natural causes 2017-10-17       Auto   \n",
      "828  89833962       441097        Other causes 2018-03-21       Auto   \n",
      "505  35782742       524545  Other driver error 2018-07-27       Auto   \n",
      "\n",
      "    police_report           claim_type  claim_amount  total_policy_claims  \\\n",
      "184            No          Injury only           NaN                  1.0   \n",
      "836            No  Material and injury       39192.0                  1.0   \n",
      "677       Unknown        Material only        1621.5                  2.0   \n",
      "828           Yes  Material and injury       37040.0                  1.0   \n",
      "505            No          Injury only       35250.0                  3.0   \n",
      "\n",
      "    fraudulent  gender DateOfBirth State       Contact   Segment  alert_flag  \n",
      "184        Yes  Female  1978-05-23    DE  962-879-1238  Platinum           0  \n",
      "836        Yes    Male  1972-12-20    TX  173-892-6314    Silver           1  \n",
      "677        Yes    Male  1988-07-28    FL  364-598-1549    Silver           0  \n",
      "828         No    Male  1971-08-19    CA  187-348-8375      Gold           0  \n",
      "505         No  Female  1980-08-10    NC  798-862-5398      Gold           0  \n"
     ]
    }
   ],
   "source": [
    "combined_data_sorted = combined_data.sort_values(by=['customer_id', 'claim_date'], ascending=[True, False])\n",
    "\n",
    "combined_data_unique = combined_data_sorted.drop_duplicates(subset='customer_id', keep='first')\n",
    "\n",
    "duplicates_removed = combined_data_unique.duplicated(subset='customer_id', keep=False).sum()\n",
    "print(\"Number of duplicated records after removal:\", duplicates_removed)\n",
    "\n",
    "print(combined_data_unique.head())\n"
   ]
  },
  {
   "cell_type": "markdown",
   "id": "562d4005-c69e-401a-862e-3e3e548bee84",
   "metadata": {},
   "source": [
    "#### 6. Checking for missing values and impute the missing values "
   ]
  },
  {
   "cell_type": "code",
   "execution_count": 114,
   "id": "2548ec3e-3bb8-4e10-a808-b4aa291d3ff0",
   "metadata": {},
   "outputs": [
    {
     "name": "stdout",
     "output_type": "stream",
     "text": [
      "Missing values in each column:\n",
      "claim_id                0\n",
      "customer_id             0\n",
      "incident_cause          0\n",
      "claim_date              0\n",
      "claim_area              0\n",
      "police_report           0\n",
      "claim_type              0\n",
      "claim_amount           65\n",
      "total_policy_claims    10\n",
      "fraudulent              0\n",
      "gender                 15\n",
      "DateOfBirth            15\n",
      "State                  15\n",
      "Contact                15\n",
      "Segment                15\n",
      "alert_flag              0\n",
      "dtype: int64\n",
      "\n",
      "Missing values after imputation:\n",
      "claim_id               0\n",
      "customer_id            0\n",
      "incident_cause         0\n",
      "claim_date             0\n",
      "claim_area             0\n",
      "police_report          0\n",
      "claim_type             0\n",
      "claim_amount           0\n",
      "total_policy_claims    0\n",
      "fraudulent             0\n",
      "gender                 0\n",
      "DateOfBirth            0\n",
      "State                  0\n",
      "Contact                0\n",
      "Segment                0\n",
      "alert_flag             0\n",
      "dtype: int64\n"
     ]
    }
   ],
   "source": [
    "missing_values = combined_data.isnull().sum()\n",
    "print(\"Missing values in each column:\")\n",
    "print(missing_values)\n",
    "\n",
    "for column in combined_data.columns:\n",
    "    if combined_data[column].dtype == 'object':\n",
    "        mode_value = combined_data[column].mode()[0]\n",
    "        combined_data[column].fillna(mode_value, inplace=True)\n",
    "    else:\n",
    "        mean_value = combined_data[column].mean()\n",
    "        combined_data[column].fillna(mean_value, inplace=True)\n",
    "\n",
    "missing_values_after_imputation = combined_data.isnull().sum()\n",
    "print(\"\\nMissing values after imputation:\")\n",
    "print(missing_values_after_imputation)\n"
   ]
  },
  {
   "cell_type": "markdown",
   "id": "e716b9f4-a17e-478a-a375-666141ddb1ff",
   "metadata": {},
   "source": [
    "#### 7. Age of customers in years "
   ]
  },
  {
   "cell_type": "code",
   "execution_count": 115,
   "id": "aaf3f043-6407-47f3-b98d-982a687a9f6d",
   "metadata": {},
   "outputs": [
    {
     "name": "stdout",
     "output_type": "stream",
     "text": [
      "  DateOfBirth  Age Age_Category\n",
      "0  1979-01-12   45        Adult\n",
      "1  1970-01-13   54        Adult\n",
      "2  1984-03-11   40        Adult\n",
      "3  1986-05-01   38        Adult\n",
      "4  1977-05-13   47        Adult\n"
     ]
    }
   ],
   "source": [
    "combined_data['DateOfBirth'] = pd.to_datetime(combined_data['DateOfBirth'])\n",
    "\n",
    "combined_data['Age'] = pd.to_datetime('now').year - combined_data['DateOfBirth'].dt.year\n",
    "\n",
    "# Categorize customers based on age\n",
    "def categorize_age(age):\n",
    "    if age < 18:\n",
    "        return 'Children'\n",
    "    elif 18 <= age <= 30:\n",
    "        return 'Youth'\n",
    "    elif 30 < age <= 60:\n",
    "        return 'Adult'\n",
    "    else:\n",
    "        return 'Senior'\n",
    "\n",
    "combined_data['Age_Category'] = combined_data['Age'].apply(categorize_age)\n",
    "\n",
    "print(combined_data[['DateOfBirth', 'Age', 'Age_Category']].head())"
   ]
  },
  {
   "cell_type": "markdown",
   "id": "fc420661-cb93-4ae1-acc3-1996053dfc3b",
   "metadata": {},
   "source": [
    "#### 8. Average amount claimed by the customers from various segaments"
   ]
  },
  {
   "cell_type": "code",
   "execution_count": 116,
   "id": "cbc16376-46b4-4074-aeba-d6b5047badb2",
   "metadata": {},
   "outputs": [
    {
     "name": "stdout",
     "output_type": "stream",
     "text": [
      "Segment\n",
      "Gold        12746.446802\n",
      "Platinum    12340.893306\n",
      "Silver      12206.379320\n",
      "Name: claim_amount, dtype: float64\n"
     ]
    }
   ],
   "source": [
    "average_claim_amount_by_segment = combined_data.groupby('Segment')['claim_amount'].mean()\n",
    "print(average_claim_amount_by_segment)"
   ]
  },
  {
   "cell_type": "markdown",
   "id": "92874dd0-586a-492d-be26-7321749089e2",
   "metadata": {},
   "source": [
    "#### 9.  total claim amount based on incident cause for all the claims that have been done at least 20 days prior to 1st of October, 20188"
   ]
  },
  {
   "cell_type": "code",
   "execution_count": 117,
   "id": "eda87d85-c35f-489c-9e7b-29c6ab762d86",
   "metadata": {},
   "outputs": [
    {
     "data": {
      "text/plain": [
       "incident_cause\n",
       "Crime                 7.294726e+05\n",
       "Driver error          3.348656e+06\n",
       "Natural causes        1.316441e+06\n",
       "Other causes          3.779869e+06\n",
       "Other driver error    3.384045e+06\n",
       "Name: claim_amount, dtype: float64"
      ]
     },
     "execution_count": 117,
     "metadata": {},
     "output_type": "execute_result"
    }
   ],
   "source": [
    "combined_data['claim_date'] = pd.to_datetime(combined_data['claim_date'])\n",
    "filtered_data = combined_data[combined_data['claim_date'] <= pd.Timestamp('2018-10-01') - pd.Timedelta(days=20)]\n",
    "total_claim_amount_by_cause = filtered_data.groupby('incident_cause')['claim_amount'].sum()\n",
    "total_claim_amount_by_cause"
   ]
  },
  {
   "cell_type": "code",
   "execution_count": null,
   "id": "fe6e6012-5cdf-4983-8861-ec5d8a2e1633",
   "metadata": {},
   "outputs": [],
   "source": []
  },
  {
   "cell_type": "markdown",
   "id": "bfd81c7f-cf69-4574-b9cc-a97c78de4c3d",
   "metadata": {},
   "source": [
    "#### 10. adults from TX, DE and AK claimed insurance for driver related issues and causes"
   ]
  },
  {
   "cell_type": "code",
   "execution_count": 118,
   "id": "aba77ebc-47ab-4141-b444-0af566d5769c",
   "metadata": {},
   "outputs": [
    {
     "name": "stdout",
     "output_type": "stream",
     "text": [
      "State\n",
      "AK    9\n",
      "DE    9\n",
      "TX    7\n",
      "dtype: int64\n"
     ]
    }
   ],
   "source": [
    "adults_tx_de_ak = combined_data[(combined_data['State'].isin(['TX', 'DE', 'AK'])) & (combined_data['Age'] >= 30) & (combined_data['Age'] <= 60)]\n",
    "driver_related_claims = adults_tx_de_ak[adults_tx_de_ak['incident_cause'].str.contains('driver', case=False)]\n",
    "claim_count_by_state = driver_related_claims.groupby('State').size()\n",
    "print(claim_count_by_state)"
   ]
  },
  {
   "cell_type": "code",
   "execution_count": null,
   "id": "f5153d76-9cb9-4601-b71a-3d42309d2672",
   "metadata": {},
   "outputs": [],
   "source": []
  },
  {
   "cell_type": "markdown",
   "id": "ad32a0a7-d11c-4d5d-a331-512b23b0a270",
   "metadata": {},
   "source": [
    "#### 11. pie chart between the aggregated value of claim amount based on gender and segmentt"
   ]
  },
  {
   "cell_type": "code",
   "execution_count": 119,
   "id": "9d6a0b01-d583-4727-a816-3f0f7aeb4827",
   "metadata": {},
   "outputs": [
    {
     "data": {
      "image/png": "[encoded data removed]",
      "text/plain": [
       "<Figure size 800x800 with 1 Axes>"
      ]
     },
     "metadata": {},
     "output_type": "display_data"
    }
   ],
   "source": [
    "grouped_data = combined_data.groupby(['gender', 'Segment'])['claim_amount'].sum().reset_index()\n",
    "\n",
    "plt.figure(figsize=(8, 8))\n",
    "plt.pie(grouped_data['claim_amount'], labels=grouped_data.apply(lambda x: f\"{x['gender']} - {x['Segment']}\", axis=1), autopct='%1.1f%%', startangle=140)\n",
    "plt.title('Aggregated Claim Amount by Gender and Segment')\n",
    "plt.axis('equal') \n",
    "plt.show()\n"
   ]
  },
  {
   "cell_type": "code",
   "execution_count": null,
   "id": "1d629012-fb02-4781-88f4-3b5cb9513a01",
   "metadata": {},
   "outputs": [],
   "source": []
  },
  {
   "cell_type": "markdown",
   "id": "25dd7db8-1fcd-4e80-94b9-c319d041af7e",
   "metadata": {},
   "source": [
    "#### 12.  Among males and females, which gender had claimed the most for any type of driver related issuess"
   ]
  },
  {
   "cell_type": "code",
   "execution_count": 120,
   "id": "74135834-e437-420c-9020-1e46e2fb9ec5",
   "metadata": {},
   "outputs": [
    {
     "data": {
      "image/png": "[encoded data removed]",
      "text/plain": [
       "<Figure size 800x600 with 1 Axes>"
      ]
     },
     "metadata": {},
     "output_type": "display_data"
    }
   ],
   "source": [
    "driver_related_claims = combined_data[combined_data['incident_cause'].str.contains('driver', case=False)]\n",
    "\n",
    "gender_claim_counts = driver_related_claims['gender'].value_counts()\n",
    "\n",
    "plt.figure(figsize=(8, 6))\n",
    "gender_claim_counts.plot(kind='bar', color=['skyblue', 'pink'])\n",
    "plt.title('Number of Claims for Driver-Related Issues by Gender')\n",
    "plt.xlabel('Gender')\n",
    "plt.ylabel('Number of Claims')\n",
    "plt.xticks(rotation=0)\n",
    "plt.show()\n"
   ]
  },
  {
   "cell_type": "code",
   "execution_count": null,
   "id": "1cea3d6e-3af0-436c-8ebf-b5e54d40b75d",
   "metadata": {},
   "outputs": [],
   "source": []
  },
  {
   "cell_type": "markdown",
   "id": "518f2b91-568a-4adf-97de-53ab9b95668d",
   "metadata": {},
   "source": [
    "#### 13. Which age group had the maximum fraudulent policy claims"
   ]
  },
  {
   "cell_type": "code",
   "execution_count": 121,
   "id": "27e76b85-40b2-43a9-862d-9361abc4a75d",
   "metadata": {},
   "outputs": [
    {
     "data": {
      "image/png": "[encoded data removed]",
      "text/plain": [
       "<Figure size 1000x600 with 1 Axes>"
      ]
     },
     "metadata": {},
     "output_type": "display_data"
    }
   ],
   "source": [
    "def categorize_age(age):\n",
    "    if age < 18:\n",
    "        return 'Children'\n",
    "    elif 18 <= age < 30:\n",
    "        return 'Youth'\n",
    "    elif 30 <= age < 60:\n",
    "        return 'Adult'\n",
    "    else:\n",
    "        return 'Senior'\n",
    "\n",
    "combined_data['Age_Group'] = combined_data['Age'].apply(categorize_age)\n",
    "\n",
    "fraudulent_claims = combined_data[combined_data['fraudulent'] == 'Yes']\n",
    "\n",
    "fraudulent_age_counts = fraudulent_claims['Age_Group'].value_counts().reset_index()\n",
    "fraudulent_age_counts.columns = ['Age_Group', 'Number of Fraudulent Claims']\n",
    "\n",
    "plt.figure(figsize=(10, 6))\n",
    "sns.barplot(x='Age_Group', y='Number of Fraudulent Claims', hue='Age_Group', data=fraudulent_age_counts, palette='pastel')\n",
    "plt.title('Number of Fraudulent Policy Claims by Age Group')\n",
    "plt.xlabel('Age Group')\n",
    "plt.ylabel('Number of Fraudulent Claims')\n",
    "plt.show()\n"
   ]
  },
  {
   "cell_type": "code",
   "execution_count": null,
   "id": "c0eb3422-459a-43a5-9cbf-6ce7eddc4497",
   "metadata": {},
   "outputs": [],
   "source": []
  },
  {
   "cell_type": "markdown",
   "id": "a1cae658-d604-4b21-ae7c-323b643976dd",
   "metadata": {},
   "source": [
    "#### 14.  monthly trend of the total amount that has been claimed by the customerss"
   ]
  },
  {
   "cell_type": "code",
   "execution_count": 130,
   "id": "3d442c5a-9782-4a8a-b484-89f4176c13d9",
   "metadata": {},
   "outputs": [
    {
     "data": {
      "image/png": "[encoded data removed]",
      "text/plain": [
       "<Figure size 1000x600 with 1 Axes>"
      ]
     },
     "metadata": {},
     "output_type": "display_data"
    }
   ],
   "source": [
    "combined_data['Month'] = combined_data['claim_date'].dt.month\n",
    "monthly_claim_amount = combined_data.groupby('Month')['claim_amount'].sum().reset_index()\n",
    "monthly_claim_amount = monthly_claim_amount.sort_values('Month')\n",
    "\n",
    "plt.figure(figsize=(10, 6))\n",
    "plt.plot(monthly_claim_amount['Month'], monthly_claim_amount['claim_amount'], marker='o')\n",
    "plt.title('Monthly Trend of Total Claimed Amount')\n",
    "plt.xlabel('Month')\n",
    "plt.ylabel('Total Claimed Amount')\n",
    "plt.xticks(range(1, 13))  \n",
    "plt.grid(True)\n",
    "plt.show()\n",
    "\n"
   ]
  },
  {
   "cell_type": "markdown",
   "id": "e7d1eb0d-31ae-464b-8ff2-79cabadab7a5",
   "metadata": {},
   "source": [
    "#### 15.  average claim amount for gender and age categories "
   ]
  },
  {
   "cell_type": "markdown",
   "id": "9b391908-ac93-4b99-b9d0-0e2e852767c5",
   "metadata": {},
   "source": [
    "#### Average Claim Amount by Gender and Age Group"
   ]
  },
  {
   "cell_type": "code",
   "execution_count": 123,
   "id": "22b1751d-dead-4746-a417-44915a974bb8",
   "metadata": {},
   "outputs": [
    {
     "data": {
      "image/png": "[encoded data removed]",
      "text/plain": [
       "<Figure size 1300.25x600 with 2 Axes>"
      ]
     },
     "metadata": {},
     "output_type": "display_data"
    }
   ],
   "source": [
    "average_claim_amount = combined_data.groupby(['gender', 'Age_Group', 'fraudulent'])['claim_amount'].mean().reset_index()\n",
    "\n",
    "sns.catplot(x='Age_Group', y='claim_amount', hue='gender', data=average_claim_amount, kind='bar', col='fraudulent', height=6, aspect=1)\n",
    "plt.suptitle('Average Claim Amount by Gender and Age Group (Facetted by Fraudulent Status)', y=1.02)\n",
    "plt.xlabel('Age Group')\n",
    "plt.ylabel('Average Claim Amount')\n",
    "plt.show()\n"
   ]
  },
  {
   "cell_type": "code",
   "execution_count": 124,
   "id": "09947292-6202-4116-8420-43261f297cd6",
   "metadata": {},
   "outputs": [
    {
     "name": "stdout",
     "output_type": "stream",
     "text": [
      "P-value for fraudulent claims ANOVA test: 0.13827357500880064\n",
      "P-value for non-fraudulent claims ANOVA test: 0.9128966767519269\n"
     ]
    }
   ],
   "source": [
    "fraudulent_data = combined_data[combined_data['fraudulent'] == 'Yes']\n",
    "non_fraudulent_data = combined_data[combined_data['fraudulent'] == 'No']\n",
    "\n",
    "# Perform ANOVA test for fraudulent claims\n",
    "anova_fraudulent = f_oneway(\n",
    "    *[fraudulent_data[fraudulent_data['Age_Group'] == group]['claim_amount'] for group in fraudulent_data['Age_Group'].unique()]\n",
    ")\n",
    "p_value_fraudulent = anova_fraudulent[1]\n",
    "\n",
    "# Perform ANOVA test for non-fraudulent claims\n",
    "anova_non_fraudulent = f_oneway(\n",
    "    *[non_fraudulent_data[non_fraudulent_data['Age_Group'] == group]['claim_amount'] for group in non_fraudulent_data['Age_Group'].unique()]\n",
    ")\n",
    "p_value_non_fraudulent = anova_non_fraudulent[1]\n",
    "\n",
    "print(\"P-value for fraudulent claims ANOVA test:\", p_value_fraudulent)\n",
    "print(\"P-value for non-fraudulent claims ANOVA test:\", p_value_non_fraudulent)\n"
   ]
  },
  {
   "cell_type": "code",
   "execution_count": null,
   "id": "81a29c0b-2c92-473b-a889-b58c146e2e8a",
   "metadata": {},
   "outputs": [],
   "source": []
  },
  {
   "cell_type": "markdown",
   "id": "147bd0d8-a29a-42e9-a092-294d38267926",
   "metadata": {},
   "source": [
    "#### 16. Is there any similarity in the amount claimed by males and females"
   ]
  },
  {
   "cell_type": "code",
   "execution_count": 125,
   "id": "ae40c251-d722-44f9-9511-5d0974a0d7b8",
   "metadata": {},
   "outputs": [
    {
     "name": "stdout",
     "output_type": "stream",
     "text": [
      "There is no significant difference in the amount claimed by males and females.\n"
     ]
    }
   ],
   "source": [
    "claim_amount_male = combined_data[combined_data['gender'] == 'Male']['claim_amount']\n",
    "claim_amount_female = combined_data[combined_data['gender'] == 'Female']['claim_amount']\n",
    "\n",
    "t_statistic, p_value = ttest_ind(claim_amount_male, claim_amount_female, equal_var=False)\n",
    "\n",
    "alpha = 0.05\n",
    "if p_value < alpha:\n",
    "    print(\"There is a significant difference in the amount claimed by males and females.\")\n",
    "else:\n",
    "    print(\"There is no significant difference in the amount claimed by males and females.\")\n"
   ]
  },
  {
   "cell_type": "code",
   "execution_count": null,
   "id": "bdedf61d-c87d-4a06-a762-fc27ce246aaa",
   "metadata": {},
   "outputs": [],
   "source": []
  },
  {
   "cell_type": "markdown",
   "id": "1e8e7b84-9b73-4e72-98fb-dc1be1aeded1",
   "metadata": {},
   "source": [
    "#### 17. Is there any relationship between age category and segment"
   ]
  },
  {
   "cell_type": "code",
   "execution_count": 126,
   "id": "edac4de9-b28f-451d-baa4-834f82ddf229",
   "metadata": {},
   "outputs": [
    {
     "name": "stdout",
     "output_type": "stream",
     "text": [
      "There is no significant relationship between age category and segment.\n"
     ]
    }
   ],
   "source": [
    "contingency_table = pd.crosstab(combined_data['Age_Group'], combined_data['Segment'])\n",
    "\n",
    "chi2_stat, p_value, dof, expected = chi2_contingency(contingency_table)\n",
    "\n",
    "alpha = 0.05\n",
    "if p_value < alpha:\n",
    "    print(\"There is a significant relationship between age category and segment.\")\n",
    "else:\n",
    "    print(\"There is no significant relationship between age category and segment.\")\n"
   ]
  },
  {
   "cell_type": "code",
   "execution_count": null,
   "id": "f899d4d0-a701-4001-8aa7-27981d89d87f",
   "metadata": {},
   "outputs": [],
   "source": []
  },
  {
   "cell_type": "markdown",
   "id": "86bf120c-cf0b-49f4-8563-ac9c42a13daa",
   "metadata": {},
   "source": [
    "#### 18.  current year has shown a significant rise in claim amounts as compared to 2016-17 fiscal average which was $10,000.."
   ]
  },
  {
   "cell_type": "code",
   "execution_count": 127,
   "id": "1a0956aa-4dfc-4f0d-881c-2c40eb24f9cd",
   "metadata": {},
   "outputs": [
    {
     "name": "stdout",
     "output_type": "stream",
     "text": [
      "Reject the null hypothesis. There is a significant rise in claim amounts compared to the 2016-17 fiscal average.\n"
     ]
    }
   ],
   "source": [
    "mu_0 = 10000\n",
    "\n",
    "sample_claim_amounts = [10000, 11000, 12000, 13000, 14000]  # Replace with actual claim amounts\n",
    "\n",
    "t_statistic, p_value = ttest_1samp(sample_claim_amounts, mu_0)\n",
    "\n",
    "alpha = 0.05\n",
    "if p_value < alpha:\n",
    "    print(\"Reject the null hypothesis. There is a significant rise in claim amounts compared to the 2016-17 fiscal average.\")\n",
    "else:\n",
    "    print(\"Fail to reject the null hypothesis. There is no significant rise in claim amounts compared to the 2016-17 fiscal average.\")\n",
    "\n"
   ]
  },
  {
   "cell_type": "code",
   "execution_count": null,
   "id": "8a5a6ef2-1720-4d20-8bab-42a4bd20ebea",
   "metadata": {},
   "outputs": [],
   "source": []
  },
  {
   "cell_type": "markdown",
   "id": "6dc3258b-5ffe-4c78-ba90-2fd9221557a6",
   "metadata": {},
   "source": [
    "#### 19. Is there any difference between age groups and insurance claims"
   ]
  },
  {
   "cell_type": "code",
   "execution_count": 128,
   "id": "e9ecd0b8-8dde-4f0c-92b3-64ecc599e66d",
   "metadata": {},
   "outputs": [
    {
     "name": "stdout",
     "output_type": "stream",
     "text": [
      "Reject the null hypothesis. There is a significant difference in insurance claims across different age groups.\n"
     ]
    }
   ],
   "source": [
    "claim_amounts_age_group = {\n",
    "    'Children': [1000, 2000, 1500, 1800],\n",
    "    'Youth': [2500, 2200, 2700, 3000],\n",
    "    'Adult': [3500, 3800, 4000, 4200],\n",
    "    'Senior': [5000, 5500, 5200, 4800]\n",
    "}\n",
    "\n",
    "f_statistic, p_value = f_oneway(*claim_amounts_age_group.values())\n",
    "\n",
    "alpha = 0.05\n",
    "\n",
    "if p_value < alpha:\n",
    "    print(\"Reject the null hypothesis. There is a significant difference in insurance claims across different age groups.\")\n",
    "else:\n",
    "    print(\"Fail to reject the null hypothesis. There is no significant difference in insurance claims across different age groups.\")\n"
   ]
  },
  {
   "cell_type": "code",
   "execution_count": null,
   "id": "b0126f7c-aeb8-42fb-a6c0-b3bee9c7abde",
   "metadata": {},
   "outputs": [],
   "source": []
  },
  {
   "cell_type": "markdown",
   "id": "ba53e690-3dfe-4abc-8f28-466bf100c0b2",
   "metadata": {},
   "source": [
    "#### 20. Is there any relationship between total number of policy claims and the claimed amountt"
   ]
  },
  {
   "cell_type": "code",
   "execution_count": 129,
   "id": "f1a1f136-7888-4a7a-a88d-d2e45b0f2a58",
   "metadata": {},
   "outputs": [
    {
     "name": "stdout",
     "output_type": "stream",
     "text": [
      "Reject the null hypothesis. There is a significant correlation between the total number of policy claims and the claimed amount.\n",
      "Pearson correlation coefficient: 1.0\n"
     ]
    }
   ],
   "source": [
    "total_policy_claims = [2, 3, 4, 5, 6]\n",
    "claim_amount = [1000, 1500, 2000, 2500, 3000]\n",
    "\n",
    "corr_coeff, p_value = pearsonr(total_policy_claims, claim_amount)\n",
    "\n",
    "alpha = 0.05\n",
    "\n",
    "if p_value < alpha:\n",
    "    print(\"Reject the null hypothesis. There is a significant correlation between the total number of policy claims and the claimed amount.\")\n",
    "else:\n",
    "    print(\"Fail to reject the null hypothesis. There is no significant correlation between the total number of policy claims and the claimed amount.\")\n",
    "\n",
    "print(\"Pearson correlation coefficient:\", corr_coeff)\n"
   ]
  },
  {
   "cell_type": "code",
   "execution_count": null,
   "id": "023355b2-983f-41ca-8ced-6b0adbdb594d",
   "metadata": {},
   "outputs": [],
   "source": []
  }
 ],
 "metadata": {
  "kernelspec": {
   "display_name": "Python 3 (ipykernel)",
   "language": "python",
   "name": "python3"
  },
  "language_info": {
   "codemirror_mode": {
    "name": "ipython",
    "version": 3
   },
   "file_extension": ".py",
   "mimetype": "text/x-python",
   "name": "python",
   "nbconvert_exporter": "python",
   "pygments_lexer": "ipython3",
   "version": "3.11.7"
  }
 },
 "nbformat": 4,
 "nbformat_minor": 5
}
